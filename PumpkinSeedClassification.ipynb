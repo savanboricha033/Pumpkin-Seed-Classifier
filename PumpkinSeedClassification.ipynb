{
 "cells": [
  {
   "cell_type": "code",
   "execution_count": 1,
   "id": "377d9f1f",
   "metadata": {},
   "outputs": [],
   "source": [
    "import numpy as np\n",
    "import pandas as pd\n",
    "import matplotlib.pyplot as plt\n",
    "from sklearn.model_selection import GridSearchCV\n",
    "params={\n",
    "    'shrinking' : [True,False],\n",
    "    'probability':[True,False],\n",
    "    'verbose':[True,False],\n",
    "    'break_ties':[True,False]\n",
    "}"
   ]
  },
  {
   "cell_type": "code",
   "execution_count": 2,
   "id": "b46abe40",
   "metadata": {},
   "outputs": [
    {
     "data": {
      "text/html": [
       "<div>\n",
       "<style scoped>\n",
       "    .dataframe tbody tr th:only-of-type {\n",
       "        vertical-align: middle;\n",
       "    }\n",
       "\n",
       "    .dataframe tbody tr th {\n",
       "        vertical-align: top;\n",
       "    }\n",
       "\n",
       "    .dataframe thead th {\n",
       "        text-align: right;\n",
       "    }\n",
       "</style>\n",
       "<table border=\"1\" class=\"dataframe\">\n",
       "  <thead>\n",
       "    <tr style=\"text-align: right;\">\n",
       "      <th></th>\n",
       "      <th>Area</th>\n",
       "      <th>Perimeter</th>\n",
       "      <th>Major_Axis_Length</th>\n",
       "      <th>Minor_Axis_Length</th>\n",
       "      <th>Convex_Area</th>\n",
       "      <th>Equiv_Diameter</th>\n",
       "      <th>Eccentricity</th>\n",
       "      <th>Solidity</th>\n",
       "      <th>Extent</th>\n",
       "      <th>Roundness</th>\n",
       "      <th>Aspect_Ration</th>\n",
       "      <th>Compactness</th>\n",
       "      <th>Class</th>\n",
       "    </tr>\n",
       "  </thead>\n",
       "  <tbody>\n",
       "    <tr>\n",
       "      <th>0</th>\n",
       "      <td>56276</td>\n",
       "      <td>888.242</td>\n",
       "      <td>326.1485</td>\n",
       "      <td>220.2388</td>\n",
       "      <td>56831</td>\n",
       "      <td>267.6805</td>\n",
       "      <td>0.7376</td>\n",
       "      <td>0.9902</td>\n",
       "      <td>0.7453</td>\n",
       "      <td>0.8963</td>\n",
       "      <td>1.4809</td>\n",
       "      <td>0.8207</td>\n",
       "      <td>Çerçevelik</td>\n",
       "    </tr>\n",
       "    <tr>\n",
       "      <th>1</th>\n",
       "      <td>76631</td>\n",
       "      <td>1068.146</td>\n",
       "      <td>417.1932</td>\n",
       "      <td>234.2289</td>\n",
       "      <td>77280</td>\n",
       "      <td>312.3614</td>\n",
       "      <td>0.8275</td>\n",
       "      <td>0.9916</td>\n",
       "      <td>0.7151</td>\n",
       "      <td>0.8440</td>\n",
       "      <td>1.7811</td>\n",
       "      <td>0.7487</td>\n",
       "      <td>Çerçevelik</td>\n",
       "    </tr>\n",
       "    <tr>\n",
       "      <th>2</th>\n",
       "      <td>71623</td>\n",
       "      <td>1082.987</td>\n",
       "      <td>435.8328</td>\n",
       "      <td>211.0457</td>\n",
       "      <td>72663</td>\n",
       "      <td>301.9822</td>\n",
       "      <td>0.8749</td>\n",
       "      <td>0.9857</td>\n",
       "      <td>0.7400</td>\n",
       "      <td>0.7674</td>\n",
       "      <td>2.0651</td>\n",
       "      <td>0.6929</td>\n",
       "      <td>Çerçevelik</td>\n",
       "    </tr>\n",
       "    <tr>\n",
       "      <th>3</th>\n",
       "      <td>66458</td>\n",
       "      <td>992.051</td>\n",
       "      <td>381.5638</td>\n",
       "      <td>222.5322</td>\n",
       "      <td>67118</td>\n",
       "      <td>290.8899</td>\n",
       "      <td>0.8123</td>\n",
       "      <td>0.9902</td>\n",
       "      <td>0.7396</td>\n",
       "      <td>0.8486</td>\n",
       "      <td>1.7146</td>\n",
       "      <td>0.7624</td>\n",
       "      <td>Çerçevelik</td>\n",
       "    </tr>\n",
       "    <tr>\n",
       "      <th>4</th>\n",
       "      <td>66107</td>\n",
       "      <td>998.146</td>\n",
       "      <td>383.8883</td>\n",
       "      <td>220.4545</td>\n",
       "      <td>67117</td>\n",
       "      <td>290.1207</td>\n",
       "      <td>0.8187</td>\n",
       "      <td>0.9850</td>\n",
       "      <td>0.6752</td>\n",
       "      <td>0.8338</td>\n",
       "      <td>1.7413</td>\n",
       "      <td>0.7557</td>\n",
       "      <td>Çerçevelik</td>\n",
       "    </tr>\n",
       "  </tbody>\n",
       "</table>\n",
       "</div>"
      ],
      "text/plain": [
       "    Area  Perimeter  Major_Axis_Length  Minor_Axis_Length  Convex_Area  \\\n",
       "0  56276    888.242           326.1485           220.2388        56831   \n",
       "1  76631   1068.146           417.1932           234.2289        77280   \n",
       "2  71623   1082.987           435.8328           211.0457        72663   \n",
       "3  66458    992.051           381.5638           222.5322        67118   \n",
       "4  66107    998.146           383.8883           220.4545        67117   \n",
       "\n",
       "   Equiv_Diameter  Eccentricity  Solidity  Extent  Roundness  Aspect_Ration  \\\n",
       "0        267.6805        0.7376    0.9902  0.7453     0.8963         1.4809   \n",
       "1        312.3614        0.8275    0.9916  0.7151     0.8440         1.7811   \n",
       "2        301.9822        0.8749    0.9857  0.7400     0.7674         2.0651   \n",
       "3        290.8899        0.8123    0.9902  0.7396     0.8486         1.7146   \n",
       "4        290.1207        0.8187    0.9850  0.6752     0.8338         1.7413   \n",
       "\n",
       "   Compactness       Class  \n",
       "0       0.8207  Çerçevelik  \n",
       "1       0.7487  Çerçevelik  \n",
       "2       0.6929  Çerçevelik  \n",
       "3       0.7624  Çerçevelik  \n",
       "4       0.7557  Çerçevelik  "
      ]
     },
     "execution_count": 2,
     "metadata": {},
     "output_type": "execute_result"
    }
   ],
   "source": [
    "data=pd.read_csv('Pumpkin_Seeds_Dataset .csv')\n",
    "data.head()"
   ]
  },
  {
   "cell_type": "code",
   "execution_count": 3,
   "id": "b1abb8d3",
   "metadata": {},
   "outputs": [
    {
     "data": {
      "text/html": [
       "<div>\n",
       "<style scoped>\n",
       "    .dataframe tbody tr th:only-of-type {\n",
       "        vertical-align: middle;\n",
       "    }\n",
       "\n",
       "    .dataframe tbody tr th {\n",
       "        vertical-align: top;\n",
       "    }\n",
       "\n",
       "    .dataframe thead th {\n",
       "        text-align: right;\n",
       "    }\n",
       "</style>\n",
       "<table border=\"1\" class=\"dataframe\">\n",
       "  <thead>\n",
       "    <tr style=\"text-align: right;\">\n",
       "      <th></th>\n",
       "      <th>Perimeter</th>\n",
       "      <th>Major_Axis_Length</th>\n",
       "      <th>Minor_Axis_Length</th>\n",
       "      <th>Convex_Area</th>\n",
       "      <th>Equiv_Diameter</th>\n",
       "      <th>Eccentricity</th>\n",
       "      <th>Solidity</th>\n",
       "      <th>Extent</th>\n",
       "      <th>Roundness</th>\n",
       "      <th>Aspect_Ration</th>\n",
       "      <th>Compactness</th>\n",
       "    </tr>\n",
       "  </thead>\n",
       "  <tbody>\n",
       "    <tr>\n",
       "      <th>0</th>\n",
       "      <td>888.242</td>\n",
       "      <td>326.1485</td>\n",
       "      <td>220.2388</td>\n",
       "      <td>56831</td>\n",
       "      <td>267.6805</td>\n",
       "      <td>0.7376</td>\n",
       "      <td>0.9902</td>\n",
       "      <td>0.7453</td>\n",
       "      <td>0.8963</td>\n",
       "      <td>1.4809</td>\n",
       "      <td>0.8207</td>\n",
       "    </tr>\n",
       "    <tr>\n",
       "      <th>1</th>\n",
       "      <td>1068.146</td>\n",
       "      <td>417.1932</td>\n",
       "      <td>234.2289</td>\n",
       "      <td>77280</td>\n",
       "      <td>312.3614</td>\n",
       "      <td>0.8275</td>\n",
       "      <td>0.9916</td>\n",
       "      <td>0.7151</td>\n",
       "      <td>0.8440</td>\n",
       "      <td>1.7811</td>\n",
       "      <td>0.7487</td>\n",
       "    </tr>\n",
       "    <tr>\n",
       "      <th>2</th>\n",
       "      <td>1082.987</td>\n",
       "      <td>435.8328</td>\n",
       "      <td>211.0457</td>\n",
       "      <td>72663</td>\n",
       "      <td>301.9822</td>\n",
       "      <td>0.8749</td>\n",
       "      <td>0.9857</td>\n",
       "      <td>0.7400</td>\n",
       "      <td>0.7674</td>\n",
       "      <td>2.0651</td>\n",
       "      <td>0.6929</td>\n",
       "    </tr>\n",
       "    <tr>\n",
       "      <th>3</th>\n",
       "      <td>992.051</td>\n",
       "      <td>381.5638</td>\n",
       "      <td>222.5322</td>\n",
       "      <td>67118</td>\n",
       "      <td>290.8899</td>\n",
       "      <td>0.8123</td>\n",
       "      <td>0.9902</td>\n",
       "      <td>0.7396</td>\n",
       "      <td>0.8486</td>\n",
       "      <td>1.7146</td>\n",
       "      <td>0.7624</td>\n",
       "    </tr>\n",
       "    <tr>\n",
       "      <th>4</th>\n",
       "      <td>998.146</td>\n",
       "      <td>383.8883</td>\n",
       "      <td>220.4545</td>\n",
       "      <td>67117</td>\n",
       "      <td>290.1207</td>\n",
       "      <td>0.8187</td>\n",
       "      <td>0.9850</td>\n",
       "      <td>0.6752</td>\n",
       "      <td>0.8338</td>\n",
       "      <td>1.7413</td>\n",
       "      <td>0.7557</td>\n",
       "    </tr>\n",
       "    <tr>\n",
       "      <th>...</th>\n",
       "      <td>...</td>\n",
       "      <td>...</td>\n",
       "      <td>...</td>\n",
       "      <td>...</td>\n",
       "      <td>...</td>\n",
       "      <td>...</td>\n",
       "      <td>...</td>\n",
       "      <td>...</td>\n",
       "      <td>...</td>\n",
       "      <td>...</td>\n",
       "      <td>...</td>\n",
       "    </tr>\n",
       "    <tr>\n",
       "      <th>2495</th>\n",
       "      <td>1224.710</td>\n",
       "      <td>533.1513</td>\n",
       "      <td>190.4367</td>\n",
       "      <td>80381</td>\n",
       "      <td>318.4289</td>\n",
       "      <td>0.9340</td>\n",
       "      <td>0.9907</td>\n",
       "      <td>0.4888</td>\n",
       "      <td>0.6672</td>\n",
       "      <td>2.7996</td>\n",
       "      <td>0.5973</td>\n",
       "    </tr>\n",
       "    <tr>\n",
       "      <th>2496</th>\n",
       "      <td>1084.318</td>\n",
       "      <td>462.9416</td>\n",
       "      <td>191.8210</td>\n",
       "      <td>70216</td>\n",
       "      <td>297.7874</td>\n",
       "      <td>0.9101</td>\n",
       "      <td>0.9919</td>\n",
       "      <td>0.6002</td>\n",
       "      <td>0.7444</td>\n",
       "      <td>2.4134</td>\n",
       "      <td>0.6433</td>\n",
       "    </tr>\n",
       "    <tr>\n",
       "      <th>2497</th>\n",
       "      <td>1210.314</td>\n",
       "      <td>507.2200</td>\n",
       "      <td>222.1872</td>\n",
       "      <td>88702</td>\n",
       "      <td>334.7199</td>\n",
       "      <td>0.8990</td>\n",
       "      <td>0.9920</td>\n",
       "      <td>0.7643</td>\n",
       "      <td>0.7549</td>\n",
       "      <td>2.2828</td>\n",
       "      <td>0.6599</td>\n",
       "    </tr>\n",
       "    <tr>\n",
       "      <th>2498</th>\n",
       "      <td>1182.947</td>\n",
       "      <td>501.9065</td>\n",
       "      <td>204.7531</td>\n",
       "      <td>80902</td>\n",
       "      <td>319.1758</td>\n",
       "      <td>0.9130</td>\n",
       "      <td>0.9890</td>\n",
       "      <td>0.7374</td>\n",
       "      <td>0.7185</td>\n",
       "      <td>2.4513</td>\n",
       "      <td>0.6359</td>\n",
       "    </tr>\n",
       "    <tr>\n",
       "      <th>2499</th>\n",
       "      <td>1159.933</td>\n",
       "      <td>462.8951</td>\n",
       "      <td>234.5597</td>\n",
       "      <td>85781</td>\n",
       "      <td>328.8485</td>\n",
       "      <td>0.8621</td>\n",
       "      <td>0.9901</td>\n",
       "      <td>0.7360</td>\n",
       "      <td>0.7933</td>\n",
       "      <td>1.9735</td>\n",
       "      <td>0.7104</td>\n",
       "    </tr>\n",
       "  </tbody>\n",
       "</table>\n",
       "<p>2500 rows × 11 columns</p>\n",
       "</div>"
      ],
      "text/plain": [
       "      Perimeter  Major_Axis_Length  Minor_Axis_Length  Convex_Area  \\\n",
       "0       888.242           326.1485           220.2388        56831   \n",
       "1      1068.146           417.1932           234.2289        77280   \n",
       "2      1082.987           435.8328           211.0457        72663   \n",
       "3       992.051           381.5638           222.5322        67118   \n",
       "4       998.146           383.8883           220.4545        67117   \n",
       "...         ...                ...                ...          ...   \n",
       "2495   1224.710           533.1513           190.4367        80381   \n",
       "2496   1084.318           462.9416           191.8210        70216   \n",
       "2497   1210.314           507.2200           222.1872        88702   \n",
       "2498   1182.947           501.9065           204.7531        80902   \n",
       "2499   1159.933           462.8951           234.5597        85781   \n",
       "\n",
       "      Equiv_Diameter  Eccentricity  Solidity  Extent  Roundness  \\\n",
       "0           267.6805        0.7376    0.9902  0.7453     0.8963   \n",
       "1           312.3614        0.8275    0.9916  0.7151     0.8440   \n",
       "2           301.9822        0.8749    0.9857  0.7400     0.7674   \n",
       "3           290.8899        0.8123    0.9902  0.7396     0.8486   \n",
       "4           290.1207        0.8187    0.9850  0.6752     0.8338   \n",
       "...              ...           ...       ...     ...        ...   \n",
       "2495        318.4289        0.9340    0.9907  0.4888     0.6672   \n",
       "2496        297.7874        0.9101    0.9919  0.6002     0.7444   \n",
       "2497        334.7199        0.8990    0.9920  0.7643     0.7549   \n",
       "2498        319.1758        0.9130    0.9890  0.7374     0.7185   \n",
       "2499        328.8485        0.8621    0.9901  0.7360     0.7933   \n",
       "\n",
       "      Aspect_Ration  Compactness  \n",
       "0            1.4809       0.8207  \n",
       "1            1.7811       0.7487  \n",
       "2            2.0651       0.6929  \n",
       "3            1.7146       0.7624  \n",
       "4            1.7413       0.7557  \n",
       "...             ...          ...  \n",
       "2495         2.7996       0.5973  \n",
       "2496         2.4134       0.6433  \n",
       "2497         2.2828       0.6599  \n",
       "2498         2.4513       0.6359  \n",
       "2499         1.9735       0.7104  \n",
       "\n",
       "[2500 rows x 11 columns]"
      ]
     },
     "execution_count": 3,
     "metadata": {},
     "output_type": "execute_result"
    }
   ],
   "source": [
    "X=data.iloc[:,1:12]\n",
    "X"
   ]
  },
  {
   "cell_type": "code",
   "execution_count": 4,
   "id": "36fff082",
   "metadata": {},
   "outputs": [],
   "source": [
    "y=data.iloc[:,-1]"
   ]
  },
  {
   "cell_type": "code",
   "execution_count": 5,
   "id": "d63a7cc2",
   "metadata": {},
   "outputs": [],
   "source": [
    "from sklearn.model_selection import train_test_split\n",
    "X_train,X_test,y_train,y_test=train_test_split=train_test_split(X,y,test_size=0.20,random_state=42)"
   ]
  },
  {
   "cell_type": "code",
   "execution_count": 6,
   "id": "244d0bf0",
   "metadata": {},
   "outputs": [],
   "source": [
    "from sklearn.preprocessing import StandardScaler\n",
    "scaler=StandardScaler()"
   ]
  },
  {
   "cell_type": "code",
   "execution_count": 7,
   "id": "3015a181",
   "metadata": {},
   "outputs": [
    {
     "data": {
      "text/plain": [
       "44.721359549995796"
      ]
     },
     "execution_count": 7,
     "metadata": {},
     "output_type": "execute_result"
    }
   ],
   "source": [
    "X_train=scaler.fit_transform(X_train)\n",
    "X_test=scaler.transform(X_test)\n",
    "np.sqrt(X_train.shape[0])"
   ]
  },
  {
   "cell_type": "code",
   "execution_count": 8,
   "id": "cc80dcc1",
   "metadata": {},
   "outputs": [],
   "source": [
    "k=43\n",
    "from sklearn.neighbors import KNeighborsClassifier\n",
    "knn=KNeighborsClassifier(n_neighbors=k)"
   ]
  },
  {
   "cell_type": "code",
   "execution_count": 9,
   "id": "54da10e5",
   "metadata": {},
   "outputs": [
    {
     "data": {
      "text/html": [
       "<style>#sk-container-id-1 {color: black;background-color: white;}#sk-container-id-1 pre{padding: 0;}#sk-container-id-1 div.sk-toggleable {background-color: white;}#sk-container-id-1 label.sk-toggleable__label {cursor: pointer;display: block;width: 100%;margin-bottom: 0;padding: 0.3em;box-sizing: border-box;text-align: center;}#sk-container-id-1 label.sk-toggleable__label-arrow:before {content: \"▸\";float: left;margin-right: 0.25em;color: #696969;}#sk-container-id-1 label.sk-toggleable__label-arrow:hover:before {color: black;}#sk-container-id-1 div.sk-estimator:hover label.sk-toggleable__label-arrow:before {color: black;}#sk-container-id-1 div.sk-toggleable__content {max-height: 0;max-width: 0;overflow: hidden;text-align: left;background-color: #f0f8ff;}#sk-container-id-1 div.sk-toggleable__content pre {margin: 0.2em;color: black;border-radius: 0.25em;background-color: #f0f8ff;}#sk-container-id-1 input.sk-toggleable__control:checked~div.sk-toggleable__content {max-height: 200px;max-width: 100%;overflow: auto;}#sk-container-id-1 input.sk-toggleable__control:checked~label.sk-toggleable__label-arrow:before {content: \"▾\";}#sk-container-id-1 div.sk-estimator input.sk-toggleable__control:checked~label.sk-toggleable__label {background-color: #d4ebff;}#sk-container-id-1 div.sk-label input.sk-toggleable__control:checked~label.sk-toggleable__label {background-color: #d4ebff;}#sk-container-id-1 input.sk-hidden--visually {border: 0;clip: rect(1px 1px 1px 1px);clip: rect(1px, 1px, 1px, 1px);height: 1px;margin: -1px;overflow: hidden;padding: 0;position: absolute;width: 1px;}#sk-container-id-1 div.sk-estimator {font-family: monospace;background-color: #f0f8ff;border: 1px dotted black;border-radius: 0.25em;box-sizing: border-box;margin-bottom: 0.5em;}#sk-container-id-1 div.sk-estimator:hover {background-color: #d4ebff;}#sk-container-id-1 div.sk-parallel-item::after {content: \"\";width: 100%;border-bottom: 1px solid gray;flex-grow: 1;}#sk-container-id-1 div.sk-label:hover label.sk-toggleable__label {background-color: #d4ebff;}#sk-container-id-1 div.sk-serial::before {content: \"\";position: absolute;border-left: 1px solid gray;box-sizing: border-box;top: 0;bottom: 0;left: 50%;z-index: 0;}#sk-container-id-1 div.sk-serial {display: flex;flex-direction: column;align-items: center;background-color: white;padding-right: 0.2em;padding-left: 0.2em;position: relative;}#sk-container-id-1 div.sk-item {position: relative;z-index: 1;}#sk-container-id-1 div.sk-parallel {display: flex;align-items: stretch;justify-content: center;background-color: white;position: relative;}#sk-container-id-1 div.sk-item::before, #sk-container-id-1 div.sk-parallel-item::before {content: \"\";position: absolute;border-left: 1px solid gray;box-sizing: border-box;top: 0;bottom: 0;left: 50%;z-index: -1;}#sk-container-id-1 div.sk-parallel-item {display: flex;flex-direction: column;z-index: 1;position: relative;background-color: white;}#sk-container-id-1 div.sk-parallel-item:first-child::after {align-self: flex-end;width: 50%;}#sk-container-id-1 div.sk-parallel-item:last-child::after {align-self: flex-start;width: 50%;}#sk-container-id-1 div.sk-parallel-item:only-child::after {width: 0;}#sk-container-id-1 div.sk-dashed-wrapped {border: 1px dashed gray;margin: 0 0.4em 0.5em 0.4em;box-sizing: border-box;padding-bottom: 0.4em;background-color: white;}#sk-container-id-1 div.sk-label label {font-family: monospace;font-weight: bold;display: inline-block;line-height: 1.2em;}#sk-container-id-1 div.sk-label-container {text-align: center;}#sk-container-id-1 div.sk-container {/* jupyter's `normalize.less` sets `[hidden] { display: none; }` but bootstrap.min.css set `[hidden] { display: none !important; }` so we also need the `!important` here to be able to override the default hidden behavior on the sphinx rendered scikit-learn.org. See: https://github.com/scikit-learn/scikit-learn/issues/21755 */display: inline-block !important;position: relative;}#sk-container-id-1 div.sk-text-repr-fallback {display: none;}</style><div id=\"sk-container-id-1\" class=\"sk-top-container\"><div class=\"sk-text-repr-fallback\"><pre>KNeighborsClassifier(n_neighbors=43)</pre><b>In a Jupyter environment, please rerun this cell to show the HTML representation or trust the notebook. <br />On GitHub, the HTML representation is unable to render, please try loading this page with nbviewer.org.</b></div><div class=\"sk-container\" hidden><div class=\"sk-item\"><div class=\"sk-estimator sk-toggleable\"><input class=\"sk-toggleable__control sk-hidden--visually\" id=\"sk-estimator-id-1\" type=\"checkbox\" checked><label for=\"sk-estimator-id-1\" class=\"sk-toggleable__label sk-toggleable__label-arrow\">KNeighborsClassifier</label><div class=\"sk-toggleable__content\"><pre>KNeighborsClassifier(n_neighbors=43)</pre></div></div></div></div></div>"
      ],
      "text/plain": [
       "KNeighborsClassifier(n_neighbors=43)"
      ]
     },
     "execution_count": 9,
     "metadata": {},
     "output_type": "execute_result"
    }
   ],
   "source": [
    "knn.fit(X_train,y_train)"
   ]
  },
  {
   "cell_type": "code",
   "execution_count": 10,
   "id": "5edceabc",
   "metadata": {},
   "outputs": [],
   "source": [
    "y_pred=knn.predict(X_test)"
   ]
  },
  {
   "cell_type": "code",
   "execution_count": 11,
   "id": "5e2a6ff2",
   "metadata": {},
   "outputs": [
    {
     "data": {
      "text/plain": [
       "array(['Çerçevelik', 'Çerçevelik', 'Çerçevelik', 'Ürgüp Sivrisi',\n",
       "       'Ürgüp Sivrisi', 'Çerçevelik', 'Ürgüp Sivrisi', 'Ürgüp Sivrisi',\n",
       "       'Çerçevelik', 'Ürgüp Sivrisi', 'Çerçevelik', 'Çerçevelik',\n",
       "       'Ürgüp Sivrisi', 'Çerçevelik', 'Çerçevelik', 'Çerçevelik',\n",
       "       'Ürgüp Sivrisi', 'Ürgüp Sivrisi', 'Çerçevelik', 'Çerçevelik',\n",
       "       'Ürgüp Sivrisi', 'Çerçevelik', 'Çerçevelik', 'Ürgüp Sivrisi',\n",
       "       'Çerçevelik', 'Çerçevelik', 'Çerçevelik', 'Çerçevelik',\n",
       "       'Ürgüp Sivrisi', 'Çerçevelik', 'Ürgüp Sivrisi', 'Çerçevelik',\n",
       "       'Çerçevelik', 'Ürgüp Sivrisi', 'Ürgüp Sivrisi', 'Çerçevelik',\n",
       "       'Ürgüp Sivrisi', 'Ürgüp Sivrisi', 'Ürgüp Sivrisi', 'Çerçevelik',\n",
       "       'Ürgüp Sivrisi', 'Çerçevelik', 'Ürgüp Sivrisi', 'Ürgüp Sivrisi',\n",
       "       'Çerçevelik', 'Çerçevelik', 'Ürgüp Sivrisi', 'Çerçevelik',\n",
       "       'Ürgüp Sivrisi', 'Ürgüp Sivrisi', 'Ürgüp Sivrisi', 'Ürgüp Sivrisi',\n",
       "       'Çerçevelik', 'Çerçevelik', 'Çerçevelik', 'Çerçevelik',\n",
       "       'Çerçevelik', 'Çerçevelik', 'Çerçevelik', 'Ürgüp Sivrisi',\n",
       "       'Ürgüp Sivrisi', 'Ürgüp Sivrisi', 'Çerçevelik', 'Ürgüp Sivrisi',\n",
       "       'Çerçevelik', 'Çerçevelik', 'Ürgüp Sivrisi', 'Çerçevelik',\n",
       "       'Çerçevelik', 'Çerçevelik', 'Çerçevelik', 'Ürgüp Sivrisi',\n",
       "       'Ürgüp Sivrisi', 'Çerçevelik', 'Ürgüp Sivrisi', 'Çerçevelik',\n",
       "       'Ürgüp Sivrisi', 'Ürgüp Sivrisi', 'Ürgüp Sivrisi', 'Çerçevelik',\n",
       "       'Çerçevelik', 'Çerçevelik', 'Ürgüp Sivrisi', 'Çerçevelik',\n",
       "       'Çerçevelik', 'Ürgüp Sivrisi', 'Ürgüp Sivrisi', 'Çerçevelik',\n",
       "       'Ürgüp Sivrisi', 'Ürgüp Sivrisi', 'Ürgüp Sivrisi', 'Çerçevelik',\n",
       "       'Çerçevelik', 'Çerçevelik', 'Çerçevelik', 'Çerçevelik',\n",
       "       'Ürgüp Sivrisi', 'Çerçevelik', 'Ürgüp Sivrisi', 'Çerçevelik',\n",
       "       'Çerçevelik', 'Ürgüp Sivrisi', 'Ürgüp Sivrisi', 'Ürgüp Sivrisi',\n",
       "       'Çerçevelik', 'Çerçevelik', 'Ürgüp Sivrisi', 'Çerçevelik',\n",
       "       'Ürgüp Sivrisi', 'Çerçevelik', 'Ürgüp Sivrisi', 'Çerçevelik',\n",
       "       'Çerçevelik', 'Ürgüp Sivrisi', 'Çerçevelik', 'Çerçevelik',\n",
       "       'Ürgüp Sivrisi', 'Çerçevelik', 'Çerçevelik', 'Ürgüp Sivrisi',\n",
       "       'Çerçevelik', 'Çerçevelik', 'Çerçevelik', 'Ürgüp Sivrisi',\n",
       "       'Ürgüp Sivrisi', 'Çerçevelik', 'Çerçevelik', 'Ürgüp Sivrisi',\n",
       "       'Ürgüp Sivrisi', 'Çerçevelik', 'Çerçevelik', 'Ürgüp Sivrisi',\n",
       "       'Ürgüp Sivrisi', 'Çerçevelik', 'Çerçevelik', 'Çerçevelik',\n",
       "       'Çerçevelik', 'Çerçevelik', 'Çerçevelik', 'Çerçevelik',\n",
       "       'Çerçevelik', 'Çerçevelik', 'Çerçevelik', 'Ürgüp Sivrisi',\n",
       "       'Ürgüp Sivrisi', 'Çerçevelik', 'Ürgüp Sivrisi', 'Çerçevelik',\n",
       "       'Çerçevelik', 'Çerçevelik', 'Çerçevelik', 'Ürgüp Sivrisi',\n",
       "       'Çerçevelik', 'Çerçevelik', 'Çerçevelik', 'Ürgüp Sivrisi',\n",
       "       'Ürgüp Sivrisi', 'Ürgüp Sivrisi', 'Çerçevelik', 'Ürgüp Sivrisi',\n",
       "       'Ürgüp Sivrisi', 'Ürgüp Sivrisi', 'Çerçevelik', 'Çerçevelik',\n",
       "       'Çerçevelik', 'Çerçevelik', 'Çerçevelik', 'Ürgüp Sivrisi',\n",
       "       'Ürgüp Sivrisi', 'Ürgüp Sivrisi', 'Ürgüp Sivrisi', 'Çerçevelik',\n",
       "       'Çerçevelik', 'Çerçevelik', 'Çerçevelik', 'Çerçevelik',\n",
       "       'Ürgüp Sivrisi', 'Çerçevelik', 'Ürgüp Sivrisi', 'Çerçevelik',\n",
       "       'Ürgüp Sivrisi', 'Çerçevelik', 'Çerçevelik', 'Ürgüp Sivrisi',\n",
       "       'Çerçevelik', 'Ürgüp Sivrisi', 'Ürgüp Sivrisi', 'Çerçevelik',\n",
       "       'Çerçevelik', 'Ürgüp Sivrisi', 'Ürgüp Sivrisi', 'Çerçevelik',\n",
       "       'Çerçevelik', 'Çerçevelik', 'Çerçevelik', 'Ürgüp Sivrisi',\n",
       "       'Çerçevelik', 'Çerçevelik', 'Çerçevelik', 'Çerçevelik',\n",
       "       'Ürgüp Sivrisi', 'Çerçevelik', 'Çerçevelik', 'Çerçevelik',\n",
       "       'Çerçevelik', 'Ürgüp Sivrisi', 'Çerçevelik', 'Çerçevelik',\n",
       "       'Çerçevelik', 'Çerçevelik', 'Çerçevelik', 'Çerçevelik',\n",
       "       'Ürgüp Sivrisi', 'Ürgüp Sivrisi', 'Ürgüp Sivrisi', 'Çerçevelik',\n",
       "       'Ürgüp Sivrisi', 'Ürgüp Sivrisi', 'Çerçevelik', 'Çerçevelik',\n",
       "       'Ürgüp Sivrisi', 'Çerçevelik', 'Ürgüp Sivrisi', 'Ürgüp Sivrisi',\n",
       "       'Ürgüp Sivrisi', 'Ürgüp Sivrisi', 'Ürgüp Sivrisi', 'Çerçevelik',\n",
       "       'Ürgüp Sivrisi', 'Ürgüp Sivrisi', 'Çerçevelik', 'Ürgüp Sivrisi',\n",
       "       'Çerçevelik', 'Ürgüp Sivrisi', 'Çerçevelik', 'Çerçevelik',\n",
       "       'Çerçevelik', 'Ürgüp Sivrisi', 'Ürgüp Sivrisi', 'Ürgüp Sivrisi',\n",
       "       'Çerçevelik', 'Ürgüp Sivrisi', 'Çerçevelik', 'Ürgüp Sivrisi',\n",
       "       'Çerçevelik', 'Çerçevelik', 'Çerçevelik', 'Ürgüp Sivrisi',\n",
       "       'Çerçevelik', 'Çerçevelik', 'Çerçevelik', 'Ürgüp Sivrisi',\n",
       "       'Ürgüp Sivrisi', 'Çerçevelik', 'Ürgüp Sivrisi', 'Çerçevelik',\n",
       "       'Ürgüp Sivrisi', 'Çerçevelik', 'Çerçevelik', 'Ürgüp Sivrisi',\n",
       "       'Ürgüp Sivrisi', 'Çerçevelik', 'Ürgüp Sivrisi', 'Çerçevelik',\n",
       "       'Ürgüp Sivrisi', 'Ürgüp Sivrisi', 'Ürgüp Sivrisi', 'Çerçevelik',\n",
       "       'Ürgüp Sivrisi', 'Çerçevelik', 'Çerçevelik', 'Ürgüp Sivrisi',\n",
       "       'Ürgüp Sivrisi', 'Çerçevelik', 'Çerçevelik', 'Çerçevelik',\n",
       "       'Çerçevelik', 'Çerçevelik', 'Ürgüp Sivrisi', 'Çerçevelik',\n",
       "       'Çerçevelik', 'Ürgüp Sivrisi', 'Ürgüp Sivrisi', 'Çerçevelik',\n",
       "       'Çerçevelik', 'Çerçevelik', 'Çerçevelik', 'Çerçevelik',\n",
       "       'Ürgüp Sivrisi', 'Ürgüp Sivrisi', 'Çerçevelik', 'Ürgüp Sivrisi',\n",
       "       'Ürgüp Sivrisi', 'Ürgüp Sivrisi', 'Çerçevelik', 'Çerçevelik',\n",
       "       'Ürgüp Sivrisi', 'Ürgüp Sivrisi', 'Çerçevelik', 'Ürgüp Sivrisi',\n",
       "       'Ürgüp Sivrisi', 'Çerçevelik', 'Ürgüp Sivrisi', 'Çerçevelik',\n",
       "       'Çerçevelik', 'Ürgüp Sivrisi', 'Çerçevelik', 'Çerçevelik',\n",
       "       'Çerçevelik', 'Ürgüp Sivrisi', 'Ürgüp Sivrisi', 'Ürgüp Sivrisi',\n",
       "       'Çerçevelik', 'Ürgüp Sivrisi', 'Ürgüp Sivrisi', 'Çerçevelik',\n",
       "       'Çerçevelik', 'Çerçevelik', 'Çerçevelik', 'Çerçevelik',\n",
       "       'Çerçevelik', 'Ürgüp Sivrisi', 'Çerçevelik', 'Ürgüp Sivrisi',\n",
       "       'Ürgüp Sivrisi', 'Ürgüp Sivrisi', 'Çerçevelik', 'Çerçevelik',\n",
       "       'Çerçevelik', 'Ürgüp Sivrisi', 'Çerçevelik', 'Ürgüp Sivrisi',\n",
       "       'Ürgüp Sivrisi', 'Çerçevelik', 'Ürgüp Sivrisi', 'Ürgüp Sivrisi',\n",
       "       'Çerçevelik', 'Çerçevelik', 'Ürgüp Sivrisi', 'Çerçevelik',\n",
       "       'Çerçevelik', 'Çerçevelik', 'Ürgüp Sivrisi', 'Çerçevelik',\n",
       "       'Çerçevelik', 'Çerçevelik', 'Ürgüp Sivrisi', 'Ürgüp Sivrisi',\n",
       "       'Ürgüp Sivrisi', 'Ürgüp Sivrisi', 'Ürgüp Sivrisi', 'Çerçevelik',\n",
       "       'Ürgüp Sivrisi', 'Çerçevelik', 'Çerçevelik', 'Çerçevelik',\n",
       "       'Ürgüp Sivrisi', 'Çerçevelik', 'Ürgüp Sivrisi', 'Ürgüp Sivrisi',\n",
       "       'Çerçevelik', 'Ürgüp Sivrisi', 'Ürgüp Sivrisi', 'Ürgüp Sivrisi',\n",
       "       'Çerçevelik', 'Çerçevelik', 'Ürgüp Sivrisi', 'Çerçevelik',\n",
       "       'Çerçevelik', 'Ürgüp Sivrisi', 'Ürgüp Sivrisi', 'Çerçevelik',\n",
       "       'Ürgüp Sivrisi', 'Ürgüp Sivrisi', 'Çerçevelik', 'Çerçevelik',\n",
       "       'Çerçevelik', 'Ürgüp Sivrisi', 'Ürgüp Sivrisi', 'Çerçevelik',\n",
       "       'Çerçevelik', 'Çerçevelik', 'Çerçevelik', 'Çerçevelik',\n",
       "       'Çerçevelik', 'Ürgüp Sivrisi', 'Ürgüp Sivrisi', 'Çerçevelik',\n",
       "       'Çerçevelik', 'Ürgüp Sivrisi', 'Ürgüp Sivrisi', 'Çerçevelik',\n",
       "       'Ürgüp Sivrisi', 'Çerçevelik', 'Çerçevelik', 'Çerçevelik',\n",
       "       'Çerçevelik', 'Ürgüp Sivrisi', 'Çerçevelik', 'Çerçevelik',\n",
       "       'Çerçevelik', 'Ürgüp Sivrisi', 'Ürgüp Sivrisi', 'Ürgüp Sivrisi',\n",
       "       'Çerçevelik', 'Ürgüp Sivrisi', 'Çerçevelik', 'Çerçevelik',\n",
       "       'Ürgüp Sivrisi', 'Ürgüp Sivrisi', 'Çerçevelik', 'Ürgüp Sivrisi',\n",
       "       'Ürgüp Sivrisi', 'Ürgüp Sivrisi', 'Çerçevelik', 'Ürgüp Sivrisi',\n",
       "       'Çerçevelik', 'Ürgüp Sivrisi', 'Çerçevelik', 'Çerçevelik',\n",
       "       'Çerçevelik', 'Çerçevelik', 'Ürgüp Sivrisi', 'Çerçevelik',\n",
       "       'Çerçevelik', 'Çerçevelik', 'Ürgüp Sivrisi', 'Çerçevelik',\n",
       "       'Çerçevelik', 'Çerçevelik', 'Ürgüp Sivrisi', 'Ürgüp Sivrisi',\n",
       "       'Çerçevelik', 'Çerçevelik', 'Ürgüp Sivrisi', 'Çerçevelik',\n",
       "       'Çerçevelik', 'Çerçevelik', 'Çerçevelik', 'Ürgüp Sivrisi',\n",
       "       'Ürgüp Sivrisi', 'Ürgüp Sivrisi', 'Ürgüp Sivrisi', 'Çerçevelik',\n",
       "       'Ürgüp Sivrisi', 'Ürgüp Sivrisi', 'Ürgüp Sivrisi', 'Çerçevelik',\n",
       "       'Ürgüp Sivrisi', 'Çerçevelik', 'Ürgüp Sivrisi', 'Çerçevelik',\n",
       "       'Ürgüp Sivrisi', 'Çerçevelik', 'Ürgüp Sivrisi', 'Ürgüp Sivrisi',\n",
       "       'Ürgüp Sivrisi', 'Ürgüp Sivrisi', 'Çerçevelik', 'Ürgüp Sivrisi',\n",
       "       'Ürgüp Sivrisi', 'Çerçevelik', 'Ürgüp Sivrisi', 'Çerçevelik',\n",
       "       'Çerçevelik', 'Ürgüp Sivrisi', 'Ürgüp Sivrisi', 'Ürgüp Sivrisi',\n",
       "       'Ürgüp Sivrisi', 'Çerçevelik', 'Ürgüp Sivrisi', 'Çerçevelik',\n",
       "       'Ürgüp Sivrisi', 'Çerçevelik', 'Çerçevelik', 'Ürgüp Sivrisi',\n",
       "       'Çerçevelik', 'Çerçevelik', 'Ürgüp Sivrisi', 'Çerçevelik',\n",
       "       'Ürgüp Sivrisi', 'Çerçevelik', 'Çerçevelik', 'Ürgüp Sivrisi',\n",
       "       'Çerçevelik', 'Çerçevelik', 'Çerçevelik', 'Çerçevelik',\n",
       "       'Ürgüp Sivrisi', 'Ürgüp Sivrisi', 'Çerçevelik', 'Çerçevelik',\n",
       "       'Ürgüp Sivrisi', 'Çerçevelik', 'Ürgüp Sivrisi', 'Ürgüp Sivrisi',\n",
       "       'Çerçevelik', 'Çerçevelik', 'Çerçevelik', 'Ürgüp Sivrisi'],\n",
       "      dtype=object)"
      ]
     },
     "execution_count": 11,
     "metadata": {},
     "output_type": "execute_result"
    }
   ],
   "source": [
    "y_pred"
   ]
  },
  {
   "cell_type": "code",
   "execution_count": 12,
   "id": "a47eebcf",
   "metadata": {},
   "outputs": [
    {
     "data": {
      "text/plain": [
       "0.858"
      ]
     },
     "execution_count": 12,
     "metadata": {},
     "output_type": "execute_result"
    }
   ],
   "source": [
    "from sklearn.metrics import accuracy_score\n",
    "accuracy_score(y_test,y_pred)"
   ]
  },
  {
   "cell_type": "code",
   "execution_count": 24,
   "id": "de091a85",
   "metadata": {},
   "outputs": [],
   "source": [
    "accuracy=[]\n",
    "for i in range(1,100):\n",
    "    knn=KNeighborsClassifier(n_neighbors=i)\n",
    "    knn.fit(X_train,y_train)\n",
    "    accuracy.append(accuracy_score(y_test,knn.predict(X_test)))"
   ]
  },
  {
   "cell_type": "code",
   "execution_count": 26,
   "id": "70a2c226",
   "metadata": {},
   "outputs": [
    {
     "name": "stdout",
     "output_type": "stream",
     "text": [
      "0.866\n"
     ]
    },
    {
     "data": {
      "image/png": "[encoded data removed]",
      "text/plain": [
       "<Figure size 640x480 with 1 Axes>"
      ]
     },
     "metadata": {},
     "output_type": "display_data"
    }
   ],
   "source": [
    "plt.plot(range(1,100),accuracy)\n",
    "print(max(accuracy))"
   ]
  },
  {
   "cell_type": "code",
   "execution_count": 27,
   "id": "a4ad0af3",
   "metadata": {},
   "outputs": [
    {
     "name": "stdout",
     "output_type": "stream",
     "text": [
      "Enter perimeter:888.242\n",
      "Enter Major axis length:326.1485\n",
      "Enter Minor axis length:220.2388\n",
      "Enter Covex area:56831\n",
      "Enter Equivalent diameter:267.6805\n",
      "Enter eccentricity:0.7376\n",
      "Enter Solidity:0.9902\n",
      "Enter Extent:0.7453\n",
      "Enter Roundness:0.8963\n",
      "Enter Aspect Ratio:1.4809\n",
      "Enter Compactness:0.8207\n",
      "Çerçevelik\n"
     ]
    },
    {
     "name": "stderr",
     "output_type": "stream",
     "text": [
      "C:\\Users\\hp\\AppData\\Local\\Programs\\Python\\Python311\\Lib\\site-packages\\sklearn\\base.py:439: UserWarning: X does not have valid feature names, but StandardScaler was fitted with feature names\n",
      "  warnings.warn(\n"
     ]
    },
    {
     "data": {
      "text/plain": [
       "'Çerçevelik'"
      ]
     },
     "execution_count": 27,
     "metadata": {},
     "output_type": "execute_result"
    }
   ],
   "source": [
    "def predict():\n",
    "    per=float(input(\"Enter perimeter:\"))\n",
    "    Ma_l=float(input(\"Enter Major axis length:\"))\n",
    "    Mi_l=float(input(\"Enter Minor axis length:\"))\n",
    "    Convex_area=float(input(\"Enter Covex area:\"))\n",
    "    Equiv_dia=float(input(\"Enter Equivalent diameter:\"))\n",
    "    e=float(input(\"Enter eccentricity:\"))\n",
    "    sol=float(input(\"Enter Solidity:\"))\n",
    "    ext=float(input(\"Enter Extent:\"))\n",
    "    roundness=float(input(\"Enter Roundness:\"))\n",
    "    ap_ratio=float(input(\"Enter Aspect Ratio:\"))\n",
    "    comp=float(input(\"Enter Compactness:\"))\n",
    "    x_new=np.array([[per],[Ma_l],[Mi_l],[Convex_area],[Equiv_dia],[e],[sol],[ext],[roundness],[ap_ratio],[comp]]).reshape(1,11)\n",
    "    x_new=scaler.transform(x_new)\n",
    "    print(knn.predict(x_new)[0])\n",
    "    if knn.predict(x_new)[0]=='Çerçevelik':\n",
    "        return \"Çerçevelik\"\n",
    "    elif knn.predict(x_new)[0]=='Ürgüp Sivrisi':\n",
    "        return \"Ürgüp Sivrisi\"\n",
    "predict()"
   ]
  },
  {
   "cell_type": "code",
   "execution_count": 16,
   "id": "512ab23d",
   "metadata": {},
   "outputs": [
    {
     "name": "stdout",
     "output_type": "stream",
     "text": [
      "[LibSVM][LibSVM][LibSVM][LibSVM][LibSVM][LibSVM][LibSVM][LibSVM][LibSVM][LibSVM][LibSVM][LibSVM][LibSVM][LibSVM][LibSVM][LibSVM][LibSVM][LibSVM][LibSVM][LibSVM][LibSVM][LibSVM][LibSVM][LibSVM][LibSVM][LibSVM][LibSVM][LibSVM][LibSVM][LibSVM][LibSVM][LibSVM][LibSVM][LibSVM][LibSVM][LibSVM][LibSVM][LibSVM][LibSVM][LibSVM][LibSVM]"
     ]
    },
    {
     "data": {
      "text/html": [
       "<style>#sk-container-id-2 {color: black;background-color: white;}#sk-container-id-2 pre{padding: 0;}#sk-container-id-2 div.sk-toggleable {background-color: white;}#sk-container-id-2 label.sk-toggleable__label {cursor: pointer;display: block;width: 100%;margin-bottom: 0;padding: 0.3em;box-sizing: border-box;text-align: center;}#sk-container-id-2 label.sk-toggleable__label-arrow:before {content: \"▸\";float: left;margin-right: 0.25em;color: #696969;}#sk-container-id-2 label.sk-toggleable__label-arrow:hover:before {color: black;}#sk-container-id-2 div.sk-estimator:hover label.sk-toggleable__label-arrow:before {color: black;}#sk-container-id-2 div.sk-toggleable__content {max-height: 0;max-width: 0;overflow: hidden;text-align: left;background-color: #f0f8ff;}#sk-container-id-2 div.sk-toggleable__content pre {margin: 0.2em;color: black;border-radius: 0.25em;background-color: #f0f8ff;}#sk-container-id-2 input.sk-toggleable__control:checked~div.sk-toggleable__content {max-height: 200px;max-width: 100%;overflow: auto;}#sk-container-id-2 input.sk-toggleable__control:checked~label.sk-toggleable__label-arrow:before {content: \"▾\";}#sk-container-id-2 div.sk-estimator input.sk-toggleable__control:checked~label.sk-toggleable__label {background-color: #d4ebff;}#sk-container-id-2 div.sk-label input.sk-toggleable__control:checked~label.sk-toggleable__label {background-color: #d4ebff;}#sk-container-id-2 input.sk-hidden--visually {border: 0;clip: rect(1px 1px 1px 1px);clip: rect(1px, 1px, 1px, 1px);height: 1px;margin: -1px;overflow: hidden;padding: 0;position: absolute;width: 1px;}#sk-container-id-2 div.sk-estimator {font-family: monospace;background-color: #f0f8ff;border: 1px dotted black;border-radius: 0.25em;box-sizing: border-box;margin-bottom: 0.5em;}#sk-container-id-2 div.sk-estimator:hover {background-color: #d4ebff;}#sk-container-id-2 div.sk-parallel-item::after {content: \"\";width: 100%;border-bottom: 1px solid gray;flex-grow: 1;}#sk-container-id-2 div.sk-label:hover label.sk-toggleable__label {background-color: #d4ebff;}#sk-container-id-2 div.sk-serial::before {content: \"\";position: absolute;border-left: 1px solid gray;box-sizing: border-box;top: 0;bottom: 0;left: 50%;z-index: 0;}#sk-container-id-2 div.sk-serial {display: flex;flex-direction: column;align-items: center;background-color: white;padding-right: 0.2em;padding-left: 0.2em;position: relative;}#sk-container-id-2 div.sk-item {position: relative;z-index: 1;}#sk-container-id-2 div.sk-parallel {display: flex;align-items: stretch;justify-content: center;background-color: white;position: relative;}#sk-container-id-2 div.sk-item::before, #sk-container-id-2 div.sk-parallel-item::before {content: \"\";position: absolute;border-left: 1px solid gray;box-sizing: border-box;top: 0;bottom: 0;left: 50%;z-index: -1;}#sk-container-id-2 div.sk-parallel-item {display: flex;flex-direction: column;z-index: 1;position: relative;background-color: white;}#sk-container-id-2 div.sk-parallel-item:first-child::after {align-self: flex-end;width: 50%;}#sk-container-id-2 div.sk-parallel-item:last-child::after {align-self: flex-start;width: 50%;}#sk-container-id-2 div.sk-parallel-item:only-child::after {width: 0;}#sk-container-id-2 div.sk-dashed-wrapped {border: 1px dashed gray;margin: 0 0.4em 0.5em 0.4em;box-sizing: border-box;padding-bottom: 0.4em;background-color: white;}#sk-container-id-2 div.sk-label label {font-family: monospace;font-weight: bold;display: inline-block;line-height: 1.2em;}#sk-container-id-2 div.sk-label-container {text-align: center;}#sk-container-id-2 div.sk-container {/* jupyter's `normalize.less` sets `[hidden] { display: none; }` but bootstrap.min.css set `[hidden] { display: none !important; }` so we also need the `!important` here to be able to override the default hidden behavior on the sphinx rendered scikit-learn.org. See: https://github.com/scikit-learn/scikit-learn/issues/21755 */display: inline-block !important;position: relative;}#sk-container-id-2 div.sk-text-repr-fallback {display: none;}</style><div id=\"sk-container-id-2\" class=\"sk-top-container\"><div class=\"sk-text-repr-fallback\"><pre>GridSearchCV(cv=5, estimator=SVC(),\n",
       "             param_grid={&#x27;break_ties&#x27;: [True, False],\n",
       "                         &#x27;probability&#x27;: [True, False],\n",
       "                         &#x27;shrinking&#x27;: [True, False], &#x27;verbose&#x27;: [True, False]})</pre><b>In a Jupyter environment, please rerun this cell to show the HTML representation or trust the notebook. <br />On GitHub, the HTML representation is unable to render, please try loading this page with nbviewer.org.</b></div><div class=\"sk-container\" hidden><div class=\"sk-item sk-dashed-wrapped\"><div class=\"sk-label-container\"><div class=\"sk-label sk-toggleable\"><input class=\"sk-toggleable__control sk-hidden--visually\" id=\"sk-estimator-id-2\" type=\"checkbox\" ><label for=\"sk-estimator-id-2\" class=\"sk-toggleable__label sk-toggleable__label-arrow\">GridSearchCV</label><div class=\"sk-toggleable__content\"><pre>GridSearchCV(cv=5, estimator=SVC(),\n",
       "             param_grid={&#x27;break_ties&#x27;: [True, False],\n",
       "                         &#x27;probability&#x27;: [True, False],\n",
       "                         &#x27;shrinking&#x27;: [True, False], &#x27;verbose&#x27;: [True, False]})</pre></div></div></div><div class=\"sk-parallel\"><div class=\"sk-parallel-item\"><div class=\"sk-item\"><div class=\"sk-label-container\"><div class=\"sk-label sk-toggleable\"><input class=\"sk-toggleable__control sk-hidden--visually\" id=\"sk-estimator-id-3\" type=\"checkbox\" ><label for=\"sk-estimator-id-3\" class=\"sk-toggleable__label sk-toggleable__label-arrow\">estimator: SVC</label><div class=\"sk-toggleable__content\"><pre>SVC()</pre></div></div></div><div class=\"sk-serial\"><div class=\"sk-item\"><div class=\"sk-estimator sk-toggleable\"><input class=\"sk-toggleable__control sk-hidden--visually\" id=\"sk-estimator-id-4\" type=\"checkbox\" ><label for=\"sk-estimator-id-4\" class=\"sk-toggleable__label sk-toggleable__label-arrow\">SVC</label><div class=\"sk-toggleable__content\"><pre>SVC()</pre></div></div></div></div></div></div></div></div></div></div>"
      ],
      "text/plain": [
       "GridSearchCV(cv=5, estimator=SVC(),\n",
       "             param_grid={'break_ties': [True, False],\n",
       "                         'probability': [True, False],\n",
       "                         'shrinking': [True, False], 'verbose': [True, False]})"
      ]
     },
     "execution_count": 16,
     "metadata": {},
     "output_type": "execute_result"
    }
   ],
   "source": [
    "from sklearn.svm import SVC\n",
    "svc=SVC()\n",
    "svc.fit(X_train,y_train)\n",
    "y_svc_pred=svc.predict(X_test)\n",
    "gv=GridSearchCV(svc,param_grid=params,cv=5)\n",
    "gv.fit(X_train,y_train)"
   ]
  },
  {
   "cell_type": "code",
   "execution_count": 23,
   "id": "d15c01e6",
   "metadata": {},
   "outputs": [
    {
     "data": {
      "text/plain": [
       "0.868"
      ]
     },
     "execution_count": 23,
     "metadata": {},
     "output_type": "execute_result"
    }
   ],
   "source": [
    "#SVC Result\n",
    "from sklearn.metrics import accuracy_score\n",
    "accuracy_score(y_test,y_svc_pred)"
   ]
  },
  {
   "cell_type": "code",
   "execution_count": 18,
   "id": "d1c5a9cc",
   "metadata": {},
   "outputs": [
    {
     "name": "stdout",
     "output_type": "stream",
     "text": [
      "{'break_ties': True, 'probability': True, 'shrinking': True, 'verbose': True}\n"
     ]
    },
    {
     "data": {
      "text/plain": [
       "0.8895"
      ]
     },
     "execution_count": 18,
     "metadata": {},
     "output_type": "execute_result"
    }
   ],
   "source": [
    "#GridSearch Result\n",
    "print(gv.best_params_)\n",
    "gv.best_score_"
   ]
  }
 ],
 "metadata": {
  "kernelspec": {
   "display_name": "Python 3 (ipykernel)",
   "language": "python",
   "name": "python3"
  },
  "language_info": {
   "codemirror_mode": {
    "name": "ipython",
    "version": 3
   },
   "file_extension": ".py",
   "mimetype": "text/x-python",
   "name": "python",
   "nbconvert_exporter": "python",
   "pygments_lexer": "ipython3",
   "version": "3.11.1"
  }
 },
 "nbformat": 4,
 "nbformat_minor": 5
}
